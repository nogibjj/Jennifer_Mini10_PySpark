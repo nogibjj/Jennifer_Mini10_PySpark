{
 "cells": [
  {
   "cell_type": "code",
   "execution_count": 1,
   "metadata": {},
   "outputs": [
    {
     "data": {
      "text/html": [
       "<div>\n",
       "<style scoped>\n",
       "    .dataframe tbody tr th:only-of-type {\n",
       "        vertical-align: middle;\n",
       "    }\n",
       "\n",
       "    .dataframe tbody tr th {\n",
       "        vertical-align: top;\n",
       "    }\n",
       "\n",
       "    .dataframe thead th {\n",
       "        text-align: right;\n",
       "    }\n",
       "</style>\n",
       "<table border=\"1\" class=\"dataframe\">\n",
       "  <thead>\n",
       "    <tr style=\"text-align: right;\">\n",
       "      <th></th>\n",
       "      <th>name</th>\n",
       "      <th>year</th>\n",
       "      <th>team</th>\n",
       "      <th>league</th>\n",
       "      <th>goose_eggs</th>\n",
       "      <th>broken_eggs</th>\n",
       "      <th>mehs</th>\n",
       "      <th>league_average_gpct</th>\n",
       "      <th>ppf</th>\n",
       "      <th>replacement_gpct</th>\n",
       "      <th>gwar</th>\n",
       "      <th>key_retro</th>\n",
       "    </tr>\n",
       "  </thead>\n",
       "  <tbody>\n",
       "    <tr>\n",
       "      <th>0</th>\n",
       "      <td>Dolf Luque</td>\n",
       "      <td>1921</td>\n",
       "      <td>CIN</td>\n",
       "      <td>NL</td>\n",
       "      <td>3</td>\n",
       "      <td>1</td>\n",
       "      <td>0</td>\n",
       "      <td>0.752062</td>\n",
       "      <td>94</td>\n",
       "      <td>0.717062</td>\n",
       "      <td>0.068511</td>\n",
       "      <td>luqud101</td>\n",
       "    </tr>\n",
       "    <tr>\n",
       "      <th>1</th>\n",
       "      <td>Mike Kircher</td>\n",
       "      <td>1921</td>\n",
       "      <td>SLN</td>\n",
       "      <td>NL</td>\n",
       "      <td>0</td>\n",
       "      <td>1</td>\n",
       "      <td>0</td>\n",
       "      <td>0.749262</td>\n",
       "      <td>96</td>\n",
       "      <td>0.714262</td>\n",
       "      <td>-0.371416</td>\n",
       "      <td>kircm101</td>\n",
       "    </tr>\n",
       "    <tr>\n",
       "      <th>2</th>\n",
       "      <td>Slim Sallee</td>\n",
       "      <td>1921</td>\n",
       "      <td>NY1</td>\n",
       "      <td>NL</td>\n",
       "      <td>13</td>\n",
       "      <td>6</td>\n",
       "      <td>2</td>\n",
       "      <td>0.746462</td>\n",
       "      <td>98</td>\n",
       "      <td>0.711462</td>\n",
       "      <td>-0.269244</td>\n",
       "      <td>salls101</td>\n",
       "    </tr>\n",
       "    <tr>\n",
       "      <th>3</th>\n",
       "      <td>Lou North</td>\n",
       "      <td>1921</td>\n",
       "      <td>SLN</td>\n",
       "      <td>NL</td>\n",
       "      <td>10</td>\n",
       "      <td>4</td>\n",
       "      <td>0</td>\n",
       "      <td>0.749262</td>\n",
       "      <td>96</td>\n",
       "      <td>0.714262</td>\n",
       "      <td>0.000173</td>\n",
       "      <td>nortl101</td>\n",
       "    </tr>\n",
       "    <tr>\n",
       "      <th>4</th>\n",
       "      <td>Dana Fillingim</td>\n",
       "      <td>1921</td>\n",
       "      <td>BSN</td>\n",
       "      <td>NL</td>\n",
       "      <td>4</td>\n",
       "      <td>1</td>\n",
       "      <td>1</td>\n",
       "      <td>0.749262</td>\n",
       "      <td>96</td>\n",
       "      <td>0.714262</td>\n",
       "      <td>0.222919</td>\n",
       "      <td>filld101</td>\n",
       "    </tr>\n",
       "  </tbody>\n",
       "</table>\n",
       "</div>"
      ],
      "text/plain": [
       "             name  year team league  goose_eggs  broken_eggs  mehs  \\\n",
       "0      Dolf Luque  1921  CIN     NL           3            1     0   \n",
       "1    Mike Kircher  1921  SLN     NL           0            1     0   \n",
       "2     Slim Sallee  1921  NY1     NL          13            6     2   \n",
       "3       Lou North  1921  SLN     NL          10            4     0   \n",
       "4  Dana Fillingim  1921  BSN     NL           4            1     1   \n",
       "\n",
       "   league_average_gpct  ppf  replacement_gpct      gwar key_retro  \n",
       "0             0.752062   94          0.717062  0.068511  luqud101  \n",
       "1             0.749262   96          0.714262 -0.371416  kircm101  \n",
       "2             0.746462   98          0.711462 -0.269244  salls101  \n",
       "3             0.749262   96          0.714262  0.000173  nortl101  \n",
       "4             0.749262   96          0.714262  0.222919  filld101  "
      ]
     },
     "execution_count": 1,
     "metadata": {},
     "output_type": "execute_result"
    }
   ],
   "source": [
    "import pandas as pd\n",
    "\n",
    "df = pd.read_csv(\n",
    "    \"https://raw.githubusercontent.com/fivethirtyeight/data/refs/heads/master/goose/goose_rawdata.csv\"\n",
    ")\n",
    "df.head()"
   ]
  },
  {
   "cell_type": "code",
   "execution_count": 2,
   "metadata": {},
   "outputs": [
    {
     "data": {
      "text/plain": [
       "(30962, 12)"
      ]
     },
     "execution_count": 2,
     "metadata": {},
     "output_type": "execute_result"
    }
   ],
   "source": [
    "df.shape"
   ]
  },
  {
   "cell_type": "code",
   "execution_count": null,
   "metadata": {},
   "outputs": [],
   "source": []
  },
  {
   "cell_type": "code",
   "execution_count": 3,
   "metadata": {},
   "outputs": [
    {
     "name": "stdout",
     "output_type": "stream",
     "text": [
      "File downloaded and saved to: data/goose.csv\n"
     ]
    }
   ],
   "source": [
    "import os\n",
    "import requests\n",
    "\n",
    "# Step 1: Define the URL and the local file path\n",
    "url = \"https://raw.githubusercontent.com/fivethirtyeight/data/master/goose/goose_rawdata.csv\"\n",
    "data_folder = \"data\"\n",
    "file_name = \"goose.csv\"\n",
    "file_path = os.path.join(data_folder, file_name)\n",
    "\n",
    "# Step 2: Create the 'data' folder if it doesn't exist\n",
    "os.makedirs(data_folder, exist_ok=True)\n",
    "\n",
    "# Step 3: Download the CSV file\n",
    "response = requests.get(url)\n",
    "if response.status_code == 200:\n",
    "    # Step 4: Save the file\n",
    "    with open(file_path, \"wb\") as file:\n",
    "        file.write(response.content)\n",
    "    print(f\"File downloaded and saved to: {file_path}\")\n",
    "else:\n",
    "    print(f\"Failed to download the file. Status code: {response.status_code}\")"
   ]
  }
 ],
 "metadata": {
  "kernelspec": {
   "display_name": "base",
   "language": "python",
   "name": "python3"
  },
  "language_info": {
   "codemirror_mode": {
    "name": "ipython",
    "version": 3
   },
   "file_extension": ".py",
   "mimetype": "text/x-python",
   "name": "python",
   "nbconvert_exporter": "python",
   "pygments_lexer": "ipython3",
   "version": "3.12.5"
  }
 },
 "nbformat": 4,
 "nbformat_minor": 2
}
